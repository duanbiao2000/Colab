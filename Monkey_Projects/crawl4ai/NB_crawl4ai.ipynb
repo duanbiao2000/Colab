{
 "cells": [
  {
   "cell_type": "code",
   "execution_count": null,
   "metadata": {},
   "outputs": [],
   "source": [
    "self.astack: List[Optional[Dict[str, Optional[str]]]] = []"
   ]
  },
  {
   "cell_type": "markdown",
   "metadata": {},
   "source": [
    "在 Python 中，Optional 是一个类型提示，用于表示一个变量可以是某种类型，也可以是 None。"
   ]
  },
  {
   "cell_type": "markdown",
   "metadata": {},
   "source": [
    "在config模块的UNIFIABLE字典中，将\"nbsp\"的值设置为\"&nbsp_place_holder;\"\n",
    "这个设置用于统一处理非断行空格的替代符号\n",
    "config.UNIFIABLE[\"nbsp\"] = \"&nbsp_place_holder;\""
   ]
  },
  {
   "cell_type": "code",
   "execution_count": null,
   "metadata": {},
   "outputs": [],
   "source": [
    "    def feed(self, data: str) -> None:\n",
    "        data = data.replace(\"</' + 'script>\", \"</ignore>\")\n",
    "        super().feed(data)"
   ]
  },
  {
   "cell_type": "markdown",
   "metadata": {},
   "source": [
    "为什么这样做？\n",
    "防止提前关闭 <script> 标签：\n",
    "如果数据中包含 </' + 'script>，在 JavaScript 代码中会被解析为 </script>，但通过替换为 </ignore>，可以避免浏览器误认为这是当前 <script> 标签的结束标志。\n",
    "安全性：\n",
    "通过替换 </' + 'script>，可以防止恶意用户利用 </script> 标签注入恶意脚本，从而提高系统的安全性。"
   ]
  }
 ],
 "metadata": {
  "language_info": {
   "name": "python"
  }
 },
 "nbformat": 4,
 "nbformat_minor": 2
}
